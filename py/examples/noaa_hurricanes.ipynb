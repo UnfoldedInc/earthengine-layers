{
 "cells": [
  {
   "cell_type": "markdown",
   "metadata": {},
   "source": [
    "# Pydeck Earth Engine Introduction\n",
    "\n",
    "This is an introduction to using [Pydeck](https://pydeck.gl) and [Deck.gl](https://deck.gl) with [Google Earth Engine](https://earthengine.google.com/) in Jupyter Notebooks."
   ]
  },
  {
   "cell_type": "markdown",
   "metadata": {},
   "source": [
    "If you wish to run this locally, you'll need to install some dependencies. Installing into a new Conda environment is recommended. To create and enter the environment, run:\n",
    "```\n",
    "conda create -n pydeck-ee -c conda-forge python jupyter notebook pydeck earthengine-api requests -y\n",
    "conda activate pydeck-ee\n",
    "\n",
    "# Install the pydeck-earthengine-layers package from pip\n",
    "pip install pydeck-earthengine-layers\n",
    "\n",
    "jupyter nbextension install --sys-prefix --symlink --overwrite --py pydeck\n",
    "jupyter nbextension enable --sys-prefix --py pydeck\n",
    "```\n",
    "then open Jupyter Notebook with `jupyter notebook`."
   ]
  },
  {
   "cell_type": "markdown",
   "metadata": {},
   "source": [
    "Now in a Python Jupyter Notebook, let's first import required packages:"
   ]
  },
  {
   "cell_type": "code",
   "execution_count": 1,
   "metadata": {},
   "outputs": [],
   "source": [
    "from pydeck_earthengine_layers import EarthEngineLayer\n",
    "import pydeck as pdk\n",
    "import ee"
   ]
  },
  {
   "cell_type": "markdown",
   "metadata": {},
   "source": [
    "## Authentication\n",
    "\n",
    "### Authenticate with Earth Engine\n",
    "\n",
    "Using Earth Engine requires authentication. If you don't have a Google account approved for use with Earth Engine, you'll need to request access. For more information and to sign up, go to https://signup.earthengine.google.com/."
   ]
  },
  {
   "cell_type": "markdown",
   "metadata": {},
   "source": [
    "If you haven't used Earth Engine in Python before, you'll need to run the following authentication command. If you've previously authenticated in Python or the command line, you can skip the next line.\n",
    "\n",
    "Note that this creates a prompt which waits for user input. If you don't see a prompt, you may need to authenticate on the command line with `earthengine authenticate` and then return here, skipping the Python authentication."
   ]
  },
  {
   "cell_type": "code",
   "execution_count": 2,
   "metadata": {
    "scrolled": true
   },
   "outputs": [],
   "source": [
    "try:\n",
    "    ee.Initialize()\n",
    "except Exception as e:\n",
    "    ee.Authenticate()\n",
    "    ee.Initialize()"
   ]
  },
  {
   "cell_type": "markdown",
   "metadata": {},
   "source": [
    "### Initialize Earth Engine\n",
    "\n",
    "The above authentication step creates credentials that are stored on your local computer. Those credentials need to be loaded so that Earth Engine and Pydeck will work."
   ]
  },
  {
   "cell_type": "markdown",
   "metadata": {},
   "source": [
    "## NOAA Hurricanes example\n",
    "\n",
    "Now let's make a simple example using Shuttle Radar Topography Mission (SRTM) elevation data. Here we create an `ee.Image` object referencing that dataset."
   ]
  },
  {
   "cell_type": "code",
   "execution_count": 3,
   "metadata": {},
   "outputs": [],
   "source": [
    "# Hurricane tracks and points for 2017.\n",
    "hurricanes = ee.FeatureCollection('NOAA/NHC/HURDAT2/atlantic')\n",
    "\n",
    "year = '2017'\n",
    "points = hurricanes.filter(ee.Filter.date(ee.Date(year).getRange('year')))\n",
    "\n",
    "# Find all of the hurricane ids.\n",
    "def get_id(point):\n",
    "    return ee.Feature(point).get('id')\n",
    "storm_ids = points.toList(1000).map(get_id).distinct()\n",
    "\n",
    "# Create a line for each hurricane.\n",
    "def create_line(storm_id):\n",
    "    pts = points.filter(ee.Filter.eq('id', ee.String(storm_id)))\n",
    "    pts = pts.sort('system:time_start')\n",
    "    line = ee.Geometry.LineString(pts.geometry().coordinates())\n",
    "    feature = ee.Feature(line)\n",
    "    return feature.set('id', storm_id)\n",
    "\n",
    "lines = ee.FeatureCollection(storm_ids.map(create_line))"
   ]
  },
  {
   "cell_type": "markdown",
   "metadata": {},
   "source": [
    "Now we're ready to create the Pydeck layer. The `EarthEngineLayer` makes this simple. Just pass the Earth Engine object to the class."
   ]
  },
  {
   "cell_type": "code",
   "execution_count": 4,
   "metadata": {},
   "outputs": [],
   "source": [
    "lines_layer = EarthEngineLayer(\n",
    "    lines,\n",
    "    {'color': 'red'},\n",
    "    id=\"tracks\",\n",
    ")"
   ]
  },
  {
   "cell_type": "code",
   "execution_count": 5,
   "metadata": {},
   "outputs": [],
   "source": [
    "points_layer = EarthEngineLayer(\n",
    "    points,\n",
    "    {'color': 'black'},\n",
    "    id=\"points\",\n",
    ")"
   ]
  },
  {
   "cell_type": "markdown",
   "metadata": {},
   "source": [
    "Then just pass this layer to a `pydeck.Deck` instance, and call `.show()` to create a map:"
   ]
  },
  {
   "cell_type": "code",
   "execution_count": 6,
   "metadata": {},
   "outputs": [
    {
     "data": {
      "application/vnd.jupyter.widget-view+json": {
       "model_id": "dd3db14a61194eee891c1b054ab2d555",
       "version_major": 2,
       "version_minor": 0
      },
      "text/plain": [
       "DeckGLWidget(custom_libraries=[{'libraryName': 'EarthEngineLayerLibrary', 'resourceUri': 'https://cdn.jsdelivr…"
      ]
     },
     "metadata": {},
     "output_type": "display_data"
    }
   ],
   "source": [
    "view_state = pdk.ViewState(latitude=36, longitude=-53, zoom=3)\n",
    "r = pdk.Deck(\n",
    "    layers=[points_layer, lines_layer], \n",
    "    initial_view_state=view_state\n",
    ")\n",
    "r.show()"
   ]
  },
  {
   "cell_type": "markdown",
   "metadata": {},
   "source": [
    "## Vector\n",
    "\n",
    "Let's plot these again, but as a vector dataset, instead of a raster dataset"
   ]
  },
  {
   "cell_type": "code",
   "execution_count": 7,
   "metadata": {},
   "outputs": [],
   "source": [
    "lines_layer = EarthEngineLayer(\n",
    "    lines,\n",
    "    as_vector=True,\n",
    "    get_line_color=[255, 0, 0],\n",
    "    getLineWidth=1000,\n",
    "    lineWidthMinPixels=3,\n",
    "    id=\"tracks\",\n",
    "    library_url=\"http://0.0.0.0:8003/pydeck_layer_module.min.js\"\n",
    ")\n",
    "points_layer = EarthEngineLayer(\n",
    "    points,\n",
    "    get_fill_color=[0, 0, 0],\n",
    "    pointRadiusMinPixels=3,\n",
    "    getRadius=100,\n",
    "    getLineColor=[255, 255, 255],\n",
    "    lineWidthMinPixels=0.5,\n",
    "    as_vector=True,\n",
    "    stroked=True,\n",
    "    id=\"points\",\n",
    "    library_url=\"http://0.0.0.0:8003/pydeck_layer_module.min.js\"\n",
    ")"
   ]
  },
  {
   "cell_type": "code",
   "execution_count": 8,
   "metadata": {},
   "outputs": [
    {
     "data": {
      "application/vnd.jupyter.widget-view+json": {
       "model_id": "3fd93eab9c7d4be9a2d0641695f6608b",
       "version_major": 2,
       "version_minor": 0
      },
      "text/plain": [
       "DeckGLWidget(custom_libraries=[{'libraryName': 'EarthEngineLayerLibrary', 'resourceUri': 'https://cdn.jsdelivr…"
      ]
     },
     "metadata": {},
     "output_type": "display_data"
    }
   ],
   "source": [
    "view_state = pdk.ViewState(latitude=36, longitude=-53, zoom=3)\n",
    "r = pdk.Deck(\n",
    "    layers=[lines_layer, points_layer], \n",
    "    initial_view_state=view_state,\n",
    "    tooltip=True\n",
    ")\n",
    "r.show()"
   ]
  },
  {
   "cell_type": "code",
   "execution_count": 12,
   "metadata": {},
   "outputs": [
    {
     "data": {
      "text/plain": [
       "{'type': 'Feature',\n",
       " 'geometry': {'type': 'Point',\n",
       "  'coordinates': [-75.19999691921689, 35.30000082489263]},\n",
       " 'id': '000000000000000042fc',\n",
       " 'properties': {'basin': 'AL',\n",
       "  'datetime': '2004-08-03T18:00:00',\n",
       "  'id': 'AL012004',\n",
       "  'max_wind_kts': 85,\n",
       "  'min_pressure': 972,\n",
       "  'name': 'ALEX',\n",
       "  'numEntries': 25,\n",
       "  'radii_ne_34kt': 90,\n",
       "  'radii_ne_50kt': 60,\n",
       "  'radii_ne_64kt': 30,\n",
       "  'radii_nw_34kt': 50,\n",
       "  'radii_nw_50kt': 30,\n",
       "  'radii_nw_64kt': 15,\n",
       "  'radii_se_34kt': 90,\n",
       "  'radii_se_50kt': 50,\n",
       "  'radii_se_64kt': 30,\n",
       "  'radii_sw_34kt': 75,\n",
       "  'radii_sw_50kt': 30,\n",
       "  'radii_sw_64kt': 20,\n",
       "  'record_id': '',\n",
       "  'seq': 1,\n",
       "  'status': 'HU',\n",
       "  'system:time_start': 1091556000000,\n",
       "  'year': 2004}}"
      ]
     },
     "execution_count": 12,
     "metadata": {},
     "output_type": "execute_result"
    }
   ],
   "source": [
    "hurricanes.first().getInfo()"
   ]
  },
  {
   "cell_type": "code",
   "execution_count": null,
   "metadata": {},
   "outputs": [],
   "source": []
  }
 ],
 "metadata": {
  "kernelspec": {
   "display_name": "Python 3",
   "language": "python",
   "name": "python3"
  },
  "language_info": {
   "codemirror_mode": {
    "name": "ipython",
    "version": 3
   },
   "file_extension": ".py",
   "mimetype": "text/x-python",
   "name": "python",
   "nbconvert_exporter": "python",
   "pygments_lexer": "ipython3",
   "version": "3.7.6"
  }
 },
 "nbformat": 4,
 "nbformat_minor": 4
}
